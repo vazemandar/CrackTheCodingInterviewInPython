{
 "cells": [
  {
   "cell_type": "code",
   "execution_count": 97,
   "metadata": {
    "collapsed": true
   },
   "outputs": [],
   "source": [
    "import unittest\n",
    "class MyTest(unittest.TestCase):\n",
    "    def test_compress_string(self):\n",
    "        self.assertEqual(stringCompression('aabcccccaaa'), 'a2b1c5a3')\n",
    "        self.assertEqual(stringCompression('abcd'), 'abcd')\n",
    "        self.assertEqual(stringCompression('tTTttaAbBBBccDd'), 'tTTttaAbBBBccDd')"
   ]
  },
  {
   "cell_type": "code",
   "execution_count": 98,
   "metadata": {},
   "outputs": [],
   "source": [
    "def stringCompression(string):\n",
    "    compressedString=[]\n",
    "    count=1\n",
    "    for index,letter in enumerate(string):\n",
    "        if letter==string[index-1] and index!=0 :\n",
    "            count+=1\n",
    "            if index==(len(string)-1):\n",
    "                compressedString.append(str(count))\n",
    "        else :            \n",
    "            if index!=0:\n",
    "                compressedString.append(str(count))\n",
    "            compressedString.append(letter)\n",
    "            count=1\n",
    "       \n",
    "    if  len(''.join(compressedString))>=len(string) :\n",
    "        return string\n",
    "    else:\n",
    "        return ''.join(compressedString) \n",
    "            "
   ]
  },
  {
   "cell_type": "code",
   "execution_count": 99,
   "metadata": {},
   "outputs": [
    {
     "data": {
      "text/plain": [
       "'a2b1c5a3'"
      ]
     },
     "execution_count": 99,
     "metadata": {},
     "output_type": "execute_result"
    }
   ],
   "source": [
    "stringCompression('aabcccccaaa')"
   ]
  },
  {
   "cell_type": "code",
   "execution_count": 100,
   "metadata": {},
   "outputs": [],
   "source": [
    "testInstance = MyTest()"
   ]
  },
  {
   "cell_type": "code",
   "execution_count": 101,
   "metadata": {},
   "outputs": [],
   "source": [
    "testInstance.test_compress_string()"
   ]
  },
  {
   "cell_type": "code",
   "execution_count": null,
   "metadata": {
    "collapsed": true
   },
   "outputs": [],
   "source": []
  }
 ],
 "metadata": {
  "kernelspec": {
   "display_name": "Python 3",
   "language": "python",
   "name": "python3"
  },
  "language_info": {
   "codemirror_mode": {
    "name": "ipython",
    "version": 3
   },
   "file_extension": ".py",
   "mimetype": "text/x-python",
   "name": "python",
   "nbconvert_exporter": "python",
   "pygments_lexer": "ipython3",
   "version": "3.6.3"
  }
 },
 "nbformat": 4,
 "nbformat_minor": 2
}
