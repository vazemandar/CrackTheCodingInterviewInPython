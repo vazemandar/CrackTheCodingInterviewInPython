{
 "cells": [
  {
   "cell_type": "code",
   "execution_count": 1,
   "metadata": {
    "collapsed": true
   },
   "outputs": [],
   "source": [
    "input= \"Mr John Smith  \""
   ]
  },
  {
   "cell_type": "code",
   "execution_count": 8,
   "metadata": {},
   "outputs": [
    {
     "name": "stdout",
     "output_type": "stream",
     "text": [
      "Mr20%John20%Smith  \n"
     ]
    }
   ],
   "source": [
    "#Solution for urlify\n",
    "wordlist=list(input)\n",
    "for index, char in enumerate(wordlist):\n",
    "    try:\n",
    "        if char == ' ' and input[index+1]!=' ':\n",
    "            wordlist[index]=\"20%\"\n",
    "    except IndexError:\n",
    "        break\n",
    "print (\"\".join(wordlist))"
   ]
  },
  {
   "cell_type": "code",
   "execution_count": null,
   "metadata": {
    "collapsed": true
   },
   "outputs": [],
   "source": []
  }
 ],
 "metadata": {
  "kernelspec": {
   "display_name": "Python 3",
   "language": "python",
   "name": "python3"
  },
  "language_info": {
   "codemirror_mode": {
    "name": "ipython",
    "version": 3
   },
   "file_extension": ".py",
   "mimetype": "text/x-python",
   "name": "python",
   "nbconvert_exporter": "python",
   "pygments_lexer": "ipython3",
   "version": "3.6.3"
  }
 },
 "nbformat": 4,
 "nbformat_minor": 2
}
